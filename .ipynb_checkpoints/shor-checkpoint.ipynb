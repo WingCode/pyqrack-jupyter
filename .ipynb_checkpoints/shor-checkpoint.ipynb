{
 "cells": [
  {
   "cell_type": "markdown",
   "id": "disciplinary-arrow",
   "metadata": {},
   "source": [
    "# Shor's algorithm for integer factoring"
   ]
  },
  {
   "cell_type": "markdown",
   "id": "infrared-advertising",
   "metadata": {},
   "source": [
    "This example implementation of Shor's algorithm is [adapted from ProjectQ](https://github.com/ProjectQ-Framework/ProjectQ/blob/develop/examples/shor.py)."
   ]
  },
  {
   "cell_type": "code",
   "execution_count": 1,
   "id": "wooden-moderator",
   "metadata": {},
   "outputs": [],
   "source": [
    "import math\n",
    "import random\n",
    "from fractions import Fraction\n",
    "\n",
    "try:\n",
    "    from math import gcd\n",
    "except ImportError:\n",
    "    from fractions import gcd\n",
    "\n",
    "from pyqrack import QrackSimulator, Pauli"
   ]
  },
  {
   "cell_type": "markdown",
   "id": "happy-cotton",
   "metadata": {},
   "source": [
    "`toFactor` is the number to factor. (You may change it.)"
   ]
  },
  {
   "cell_type": "code",
   "execution_count": 2,
   "id": "educated-links",
   "metadata": {},
   "outputs": [],
   "source": [
    "toFactor = 973"
   ]
  },
  {
   "cell_type": "markdown",
   "id": "waiting-spelling",
   "metadata": {},
   "source": [
    "The entire algorithm is implemented below:"
   ]
  },
  {
   "cell_type": "code",
   "execution_count": 3,
   "id": "small-marijuana",
   "metadata": {},
   "outputs": [
    {
     "name": "stdout",
     "output_type": "stream",
     "text": [
      "Device #0, Loaded binary from: /home/iamu/.qrack/qrack_ocl_dev_Intel(R)_Gen9_HD_Graphics_NEO.ir\n",
      "Device #1, Loaded binary from: /home/iamu/.qrack/qrack_ocl_dev_NVIDIA_GeForce_RTX_3080_Laptop_GPU.ir\n",
      "Factors found : 7 * 139 = 973\n"
     ]
    }
   ],
   "source": [
    "base = int(random.random() * toFactor)\n",
    "if not gcd(base, toFactor) == 1:\n",
    "    print(\"Chose non-relative prime, (without need for quantum computing):\")\n",
    "    print(\"Factor: {}\".format(gcd(base, toFactor)))\n",
    "else:\n",
    "    qubitCount = math.ceil(math.log2(toFactor))\n",
    "    sim = QrackSimulator(2 * qubitCount)\n",
    "\n",
    "    qi = [i for i in range(qubitCount)]\n",
    "    qo = [(i + qubitCount) for i in range(qubitCount)]\n",
    "\n",
    "    # run the quantum subroutine\n",
    "    for i in qi:\n",
    "        sim.h(i)\n",
    "    sim.pown(base, toFactor, qi, qo)\n",
    "    sim.iqft(qi)\n",
    "    \n",
    "    b = [Pauli.PauliZ] * qubitCount\n",
    "    y = sim.measure_pauli(b, qi)\n",
    "    r = Fraction(y).limit_denominator(toFactor - 1).denominator\n",
    "\n",
    "    # try to determine the factors\n",
    "    if r % 2 != 0:\n",
    "        r *= 2\n",
    "    apowrhalf = pow(base, r >> 1, toFactor)\n",
    "    f1 = gcd(apowrhalf + 1, toFactor)\n",
    "    f2 = gcd(apowrhalf - 1, toFactor)\n",
    "    if (not f1 * f2 == toFactor) and f1 * f2 > 1 and int(1.0 * toFactor / (f1 * f2)) * f1 * f2 == toFactor:\n",
    "        f1, f2 = f1 * f2, int(toFactor / (f1 * f2))\n",
    "    if f1 * f2 == toFactor and f1 > 1 and f2 > 1:\n",
    "        print(\"Factors found : {} * {} = {}\".format(f1, f2, toFactor))\n",
    "    else:\n",
    "        print(\"Failed: Found {} and {}\".format(f1, f2))"
   ]
  }
 ],
 "metadata": {
  "kernelspec": {
   "display_name": "Python 3 (ipykernel)",
   "language": "python",
   "name": "python3"
  },
  "language_info": {
   "codemirror_mode": {
    "name": "ipython",
    "version": 3
   },
   "file_extension": ".py",
   "mimetype": "text/x-python",
   "name": "python",
   "nbconvert_exporter": "python",
   "pygments_lexer": "ipython3",
   "version": "3.8.10"
  }
 },
 "nbformat": 4,
 "nbformat_minor": 5
}
