{
 "cells": [
  {
   "cell_type": "markdown",
   "id": "opened-school",
   "metadata": {},
   "source": [
    "# Grover's search algorithm"
   ]
  },
  {
   "cell_type": "code",
   "execution_count": 1,
   "id": "controversial-parallel",
   "metadata": {},
   "outputs": [],
   "source": [
    "# Number of qubits in index register\n",
    "indexLength = 8\n",
    "# Number of qubits in value register\n",
    "valueLength = 8\n",
    "# Carry flag qubit index\n",
    "carryIndex = indexLength + valueLength\n",
    "# Value we're searching for\n",
    "TARGET_VALUE = 100"
   ]
  },
  {
   "cell_type": "code",
   "execution_count": 2,
   "id": "surgical-sound",
   "metadata": {},
   "outputs": [],
   "source": [
    "# (We don't \"know\" this, for purpose of the problem.)\n",
    "TARGET_KEY = 230"
   ]
  },
  {
   "cell_type": "code",
   "execution_count": 3,
   "id": "corporate-divorce",
   "metadata": {},
   "outputs": [
    {
     "name": "stdout",
     "output_type": "stream",
     "text": [
      "Device #0, Loaded binary from: /home/iamu/.qrack/qrack_ocl_dev_Intel(R)_Gen9_HD_Graphics_NEO.ir\n",
      "Device #1, Loaded binary from: /home/iamu/.qrack/qrack_ocl_dev_NVIDIA_GeForce_RTX_3080_Laptop_GPU.ir\n"
     ]
    }
   ],
   "source": [
    "from pyqrack import QrackSimulator\n",
    "sim = QrackSimulator(indexLength + valueLength + 1)"
   ]
  },
  {
   "cell_type": "code",
   "execution_count": 4,
   "id": "built-triumph",
   "metadata": {},
   "outputs": [],
   "source": [
    "toLoad = [1] * (1 << indexLength)\n",
    "toLoad[TARGET_KEY] = TARGET_VALUE"
   ]
  },
  {
   "cell_type": "code",
   "execution_count": 5,
   "id": "proper-submission",
   "metadata": {},
   "outputs": [],
   "source": [
    "indexQubits = [i for i in range(indexLength)]\n",
    "valueQubits = [(v + indexLength) for v in range(valueLength)]"
   ]
  },
  {
   "cell_type": "code",
   "execution_count": 6,
   "id": "sealed-leather",
   "metadata": {},
   "outputs": [],
   "source": [
    "for i in indexQubits:\n",
    "    sim.h(i)"
   ]
  },
  {
   "cell_type": "code",
   "execution_count": 7,
   "id": "efficient-louisville",
   "metadata": {},
   "outputs": [],
   "source": [
    "sim.lda(indexQubits, valueQubits, toLoad)"
   ]
  },
  {
   "cell_type": "code",
   "execution_count": 8,
   "id": "handed-mambo",
   "metadata": {},
   "outputs": [],
   "source": [
    "import math\n",
    "optIter = math.floor(math.pi / (4 * math.asin(1 / math.sqrt(1 << indexLength))))"
   ]
  },
  {
   "cell_type": "code",
   "execution_count": 9,
   "id": "second-sally",
   "metadata": {},
   "outputs": [],
   "source": [
    "def oracle(valueQubits, TARGET_VALUE, sim):\n",
    "    sim.sub(TARGET_VALUE, valueQubits)\n",
    "    sim.macmtrx(valueQubits[1:], [-1, 0, 0, 1], valueQubits[0])\n",
    "    sim.add(TARGET_VALUE, valueQubits)"
   ]
  },
  {
   "cell_type": "code",
   "execution_count": 10,
   "id": "worth-nelson",
   "metadata": {},
   "outputs": [],
   "source": [
    "for i in range(optIter):\n",
    "    oracle(valueQubits, TARGET_VALUE, sim)\n",
    "\n",
    "    sim.x(carryIndex)\n",
    "    sim.sbc(carryIndex, indexQubits, valueQubits, toLoad)\n",
    "    sim.x(carryIndex)\n",
    "    for j in indexQubits:\n",
    "        sim.h(j)\n",
    "    sim.macmtrx(indexQubits[1:], [-1, 0, 0, 1], indexQubits[0])\n",
    "    for j in indexQubits:\n",
    "        sim.h(j)\n",
    "    # We could \"reverse sign of global phase,\" here, but that cannot be measured.\n",
    "    sim.adc(carryIndex, indexQubits, valueQubits, toLoad)"
   ]
  },
  {
   "cell_type": "code",
   "execution_count": 11,
   "id": "otherwise-scale",
   "metadata": {},
   "outputs": [
    {
     "name": "stdout",
     "output_type": "stream",
     "text": [
      "[100, 100, 100, 100, 100, 100, 100, 100, 100, 100]\n",
      "[230, 230, 230, 230, 230, 230, 230, 230, 230, 230]\n"
     ]
    }
   ],
   "source": [
    "print(sim.measure_shots(valueQubits, 10))\n",
    "print(sim.measure_shots(indexQubits, 10))"
   ]
  }
 ],
 "metadata": {
  "kernelspec": {
   "display_name": "Python 3 (ipykernel)",
   "language": "python",
   "name": "python3"
  },
  "language_info": {
   "codemirror_mode": {
    "name": "ipython",
    "version": 3
   },
   "file_extension": ".py",
   "mimetype": "text/x-python",
   "name": "python",
   "nbconvert_exporter": "python",
   "pygments_lexer": "ipython3",
   "version": "3.8.10"
  }
 },
 "nbformat": 4,
 "nbformat_minor": 5
}
