{
 "cells": [
  {
   "cell_type": "markdown",
   "id": "figured-prefix",
   "metadata": {},
   "source": [
    "# PyZX interoperability"
   ]
  },
  {
   "cell_type": "markdown",
   "id": "individual-allergy",
   "metadata": {},
   "source": [
    "We can use [PyZX](https://github.com/Quantomatic/pyzx.git) to load intermediate representations like QASM to simulate with PyQrack, as well as to optimize circuits with the ZX-calculus before simulating them."
   ]
  },
  {
   "cell_type": "code",
   "execution_count": 1,
   "id": "beautiful-cancer",
   "metadata": {},
   "outputs": [],
   "source": [
    "import sys; sys.path.insert(0,'..')\n",
    "import os\n",
    "from collections import Counter\n",
    "import pyzx as zx\n",
    "from pyqrack import QrackSimulator"
   ]
  },
  {
   "cell_type": "markdown",
   "id": "adult-donna",
   "metadata": {},
   "source": [
    "If the file has the expected extension and other format properties, we should be able to load any intermediate representation that PyZX knows with `pyzx.Circuit.load()`."
   ]
  },
  {
   "cell_type": "code",
   "execution_count": 2,
   "id": "motivated-traveler",
   "metadata": {},
   "outputs": [],
   "source": [
    "fname = os.path.join('qasm','qasmbench_ising26.qasm')\n",
    "circ = zx.Circuit.load(fname)"
   ]
  },
  {
   "cell_type": "markdown",
   "id": "valued-sperm",
   "metadata": {},
   "source": [
    "Before optimizing the circuit, we need to convert it to a graph representation."
   ]
  },
  {
   "cell_type": "code",
   "execution_count": 3,
   "id": "excellent-split",
   "metadata": {},
   "outputs": [
    {
     "data": {
      "text/plain": [
       "Graph(382 vertices, 406 edges)"
      ]
     },
     "execution_count": 3,
     "metadata": {},
     "output_type": "execute_result"
    }
   ],
   "source": [
    "g = circ.to_graph()\n",
    "g"
   ]
  },
  {
   "cell_type": "markdown",
   "id": "pleased-timeline",
   "metadata": {},
   "source": [
    "Then, we can optimize the graph."
   ]
  },
  {
   "cell_type": "code",
   "execution_count": 4,
   "id": "aware-shell",
   "metadata": {},
   "outputs": [
    {
     "data": {
      "text/plain": [
       "Graph(128 vertices, 127 edges)"
      ]
     },
     "execution_count": 4,
     "metadata": {},
     "output_type": "execute_result"
    }
   ],
   "source": [
    "zx.simplify.full_reduce(g)\n",
    "g"
   ]
  },
  {
   "cell_type": "code",
   "execution_count": 5,
   "id": "thrown-owner",
   "metadata": {
    "scrolled": true
   },
   "outputs": [],
   "source": [
    "circ = zx.extract_circuit(g)"
   ]
  },
  {
   "cell_type": "markdown",
   "id": "spectacular-support",
   "metadata": {},
   "source": [
    "Once the graph is loaded and optionally optimized, we can feed it directly to a QrackSimulator for immediate simulation"
   ]
  },
  {
   "cell_type": "code",
   "execution_count": 6,
   "id": "painful-lightning",
   "metadata": {
    "scrolled": false
   },
   "outputs": [
    {
     "name": "stdout",
     "output_type": "stream",
     "text": [
      "Device #0, Loaded binary from: /home/iamu/.qrack/qrack_ocl_dev_NVIDIA_GeForce_RTX_3080_Laptop_GPU.ir\n",
      "CPU times: user 1min 15s, sys: 877 ms, total: 1min 16s\n",
      "Wall time: 20.3 s\n"
     ]
    },
    {
     "data": {
      "text/plain": [
       "Counter({521670: 1,\n",
       "         1350374: 1,\n",
       "         1461217: 1,\n",
       "         1724587: 1,\n",
       "         2181177: 1,\n",
       "         2387159: 1,\n",
       "         2553795: 1,\n",
       "         2859136: 1,\n",
       "         3100005: 1,\n",
       "         3112260: 1,\n",
       "         3435592: 1,\n",
       "         3997553: 1,\n",
       "         4543384: 1,\n",
       "         4570076: 1,\n",
       "         4582984: 1,\n",
       "         4780113: 1,\n",
       "         5896163: 1,\n",
       "         5900305: 1,\n",
       "         6349581: 1,\n",
       "         6508179: 1,\n",
       "         6531169: 1,\n",
       "         6557210: 1,\n",
       "         7108346: 1,\n",
       "         7365864: 1,\n",
       "         7600543: 1,\n",
       "         8019276: 1,\n",
       "         8050569: 1,\n",
       "         8249967: 1,\n",
       "         8931428: 1,\n",
       "         8989662: 1,\n",
       "         9063376: 1,\n",
       "         9192026: 1,\n",
       "         9242097: 1,\n",
       "         10068402: 1,\n",
       "         11017595: 1,\n",
       "         11049928: 1,\n",
       "         11337182: 1,\n",
       "         11446058: 1,\n",
       "         11462303: 1,\n",
       "         12043206: 1,\n",
       "         12051054: 1,\n",
       "         12168785: 1,\n",
       "         12259144: 1,\n",
       "         12913540: 1,\n",
       "         13284490: 1,\n",
       "         13506427: 1,\n",
       "         13726488: 1,\n",
       "         14182440: 1,\n",
       "         14514422: 1,\n",
       "         14708244: 1,\n",
       "         15228694: 1,\n",
       "         15346742: 1,\n",
       "         15399421: 1,\n",
       "         15637450: 1,\n",
       "         15850912: 1,\n",
       "         16043588: 1,\n",
       "         16253644: 1,\n",
       "         16821350: 1,\n",
       "         17340521: 1,\n",
       "         17630027: 1,\n",
       "         17741297: 1,\n",
       "         18885997: 1,\n",
       "         28374289: 1,\n",
       "         28777470: 1,\n",
       "         29303677: 1,\n",
       "         31894929: 1,\n",
       "         32887933: 1,\n",
       "         36796329: 1,\n",
       "         46701972: 1,\n",
       "         46738711: 1,\n",
       "         47145570: 1,\n",
       "         47585241: 1,\n",
       "         48098289: 1,\n",
       "         48735731: 1,\n",
       "         49458477: 1,\n",
       "         51502391: 1,\n",
       "         63301977: 1,\n",
       "         67108863: 179})"
      ]
     },
     "execution_count": 6,
     "metadata": {},
     "output_type": "execute_result"
    }
   ],
   "source": [
    "%%time\n",
    "sim = QrackSimulator(pyzxCircuit=circ)\n",
    "Counter(sim.measure_shots(range(circ.qubits), 256))"
   ]
  }
 ],
 "metadata": {
  "kernelspec": {
   "display_name": "Python 3 (ipykernel)",
   "language": "python",
   "name": "python3"
  },
  "language_info": {
   "codemirror_mode": {
    "name": "ipython",
    "version": 3
   },
   "file_extension": ".py",
   "mimetype": "text/x-python",
   "name": "python",
   "nbconvert_exporter": "python",
   "pygments_lexer": "ipython3",
   "version": "3.8.10"
  }
 },
 "nbformat": 4,
 "nbformat_minor": 5
}
